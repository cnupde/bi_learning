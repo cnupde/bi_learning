{
 "cells": [
  {
   "cell_type": "code",
   "execution_count": 1,
   "metadata": {},
   "outputs": [],
   "source": [
    "import pulp"
   ]
  },
  {
   "cell_type": "code",
   "execution_count": 2,
   "metadata": {},
   "outputs": [],
   "source": [
    "prob = pulp.LpProblem(sense=pulp.LpMaximize)"
   ]
  },
  {
   "cell_type": "code",
   "execution_count": 3,
   "metadata": {},
   "outputs": [],
   "source": [
    "v_rice = [pulp.LpVariable(f'rice_{k+1}', lowBound=0) for k in range(6)]\n",
    "v_corn = [pulp.LpVariable(f'corn_{k+1}', lowBound=0) for k in range(6)]\n",
    "v_fruit = [pulp.LpVariable(f'fruit_{k+1}', lowBound=0) for k in range(6)]\n",
    "v_veget = [pulp.LpVariable(f'veget_{k+1}', lowBound=0) for k in range(6)]"
   ]
  },
  {
   "cell_type": "code",
   "execution_count": 4,
   "metadata": {},
   "outputs": [],
   "source": [
    "vars = [v_rice, v_corn, v_fruit, v_veget]"
   ]
  },
  {
   "cell_type": "code",
   "execution_count": 5,
   "metadata": {},
   "outputs": [],
   "source": [
    "mat = [\n",
    "    [500, 550, 630, 1000, 800, 700],\n",
    "    [800, 700, 600, 950, 900, 930],\n",
    "    [1000, 960, 840, 650, 600, 700],\n",
    "    [1200, 1040, 980, 860, 880, 780],\n",
    "]"
   ]
  },
  {
   "cell_type": "code",
   "execution_count": 6,
   "metadata": {},
   "outputs": [],
   "source": [
    "# obj function\n",
    "total = []\n",
    "for klass in range(4):\n",
    "    for k in range(6):\n",
    "        total.append(mat[klass][k] * vars[klass][k])\n",
    "prob += pulp.lpSum(total)"
   ]
  },
  {
   "cell_type": "code",
   "execution_count": 7,
   "metadata": {},
   "outputs": [],
   "source": [
    "# condition\n",
    "prob += pulp.lpSum(v_rice) <= 76\n",
    "prob += pulp.lpSum(v_corn) <= 88\n",
    "prob += pulp.lpSum(v_fruit) <= 96\n",
    "prob += pulp.lpSum(v_veget) <= 40\n",
    "prob += pulp.lpSum([vars[k][0] for k in range(4)]) <= 42\n",
    "prob += pulp.lpSum([vars[k][1] for k in range(4)]) <= 56\n",
    "prob += pulp.lpSum([vars[k][2] for k in range(4)]) <= 44\n",
    "prob += pulp.lpSum([vars[k][3] for k in range(4)]) <= 39\n",
    "prob += pulp.lpSum([vars[k][4] for k in range(4)]) <= 60\n",
    "prob += pulp.lpSum([vars[k][5] for k in range(4)]) <= 59"
   ]
  },
  {
   "cell_type": "code",
   "execution_count": 8,
   "metadata": {},
   "outputs": [
    {
     "output_type": "execute_result",
     "data": {
      "text/plain": [
       "1"
      ]
     },
     "metadata": {},
     "execution_count": 8
    }
   ],
   "source": [
    "# solve\n",
    "prob.solve()"
   ]
  },
  {
   "cell_type": "code",
   "execution_count": 9,
   "metadata": {},
   "outputs": [
    {
     "output_type": "stream",
     "name": "stdout",
     "text": [
      "Status: Optimal\n"
     ]
    }
   ],
   "source": [
    "print(\"Status:\", pulp.LpStatus[prob.status])"
   ]
  },
  {
   "cell_type": "code",
   "execution_count": 10,
   "metadata": {},
   "outputs": [
    {
     "output_type": "stream",
     "name": "stdout",
     "text": [
      "优化结果：284230.0\n"
     ]
    }
   ],
   "source": [
    "print(f'优化结果：{pulp.value(prob.objective)}')"
   ]
  },
  {
   "cell_type": "code",
   "execution_count": 11,
   "metadata": {},
   "outputs": [
    {
     "output_type": "stream",
     "name": "stdout",
     "text": [
      "rice：[0.0, 0.0, 6.0, 39.0, 31.0, 0.0]\n"
     ]
    }
   ],
   "source": [
    "print(f'rice：{[pulp.value(var) for var in v_rice]}')"
   ]
  },
  {
   "cell_type": "code",
   "execution_count": 12,
   "metadata": {},
   "outputs": [
    {
     "output_type": "stream",
     "name": "stdout",
     "text": [
      "corn: [0.0, 0.0, 0.0, 0.0, 29.0, 59.0]\n"
     ]
    }
   ],
   "source": [
    "print(f'corn: {[pulp.value(var) for var in v_corn]}')"
   ]
  },
  {
   "cell_type": "code",
   "execution_count": 13,
   "metadata": {},
   "outputs": [
    {
     "output_type": "stream",
     "name": "stdout",
     "text": [
      "fruit: [2.0, 56.0, 38.0, 0.0, 0.0, 0.0]\n"
     ]
    }
   ],
   "source": [
    "print(f'fruit: {[pulp.value(var) for var in v_fruit]}')"
   ]
  },
  {
   "cell_type": "code",
   "execution_count": 14,
   "metadata": {},
   "outputs": [
    {
     "output_type": "stream",
     "name": "stdout",
     "text": [
      "vegetable: [40.0, 0.0, 0.0, 0.0, 0.0, 0.0]\n"
     ]
    }
   ],
   "source": [
    "print(f'vegetable: {[pulp.value(var) for var in v_veget]}')"
   ]
  },
  {
   "cell_type": "code",
   "execution_count": null,
   "metadata": {},
   "outputs": [],
   "source": []
  }
 ],
 "metadata": {
  "kernelspec": {
   "name": "python38532bitenv1f1d101519194d008a9dc50d75ac4365",
   "display_name": "Python 3.8.7  ('env': venv)"
  },
  "language_info": {
   "codemirror_mode": {
    "name": "ipython",
    "version": 3
   },
   "file_extension": ".py",
   "mimetype": "text/x-python",
   "name": "python",
   "nbconvert_exporter": "python",
   "pygments_lexer": "ipython3",
   "version": "3.8.7"
  },
  "metadata": {
   "interpreter": {
    "hash": "1ad5102d57c5043b35571eef154c20a8fcf48d3c5d7d98e5ab0ef51398b23423"
   }
  }
 },
 "nbformat": 4,
 "nbformat_minor": 4
}