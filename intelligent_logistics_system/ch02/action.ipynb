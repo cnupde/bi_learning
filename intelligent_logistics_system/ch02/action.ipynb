{
 "cells": [
  {
   "cell_type": "code",
   "execution_count": 3,
   "metadata": {},
   "outputs": [],
   "source": [
    "\n",
    "import os\n",
    "import json\n",
    "import pandas as pd\n",
    "import numpy as np\n",
    "from sklearn.preprocessing import MinMaxScaler\n",
    "from sklearn.model_selection import train_test_split\n",
    "from sklearn.metrics import mean_absolute_error\n",
    "from tensorflow import keras"
   ]
  },
  {
   "cell_type": "code",
   "execution_count": 4,
   "metadata": {},
   "outputs": [],
   "source": [
    "data_train = pd.read_csv('used_car/used_car_train_20200313.csv',sep = ' ')\n",
    "data_test = pd.read_csv('used_car/used_car_testB_20200421.csv',sep = ' ')"
   ]
  },
  {
   "cell_type": "code",
   "execution_count": 5,
   "metadata": {},
   "outputs": [
    {
     "output_type": "execute_result",
     "data": {
      "text/plain": [
       "        SaleID    name   regDate  model  brand  bodyType  fuelType  gearbox  \\\n",
       "0            0     736  20040402   30.0      6       1.0       0.0      0.0   \n",
       "1            1    2262  20030301   40.0      1       2.0       0.0      0.0   \n",
       "2            2   14874  20040403  115.0     15       1.0       0.0      0.0   \n",
       "3            3   71865  19960908  109.0     10       0.0       0.0      1.0   \n",
       "4            4  111080  20120103  110.0      5       1.0       0.0      0.0   \n",
       "...        ...     ...       ...    ...    ...       ...       ...      ...   \n",
       "149995  149995  163978  20000607  121.0     10       4.0       0.0      1.0   \n",
       "149996  149996  184535  20091102  116.0     11       0.0       0.0      0.0   \n",
       "149997  149997  147587  20101003   60.0     11       1.0       1.0      0.0   \n",
       "149998  149998   45907  20060312   34.0     10       3.0       1.0      0.0   \n",
       "149999  149999  177672  19990204   19.0     28       6.0       0.0      1.0   \n",
       "\n",
       "        power  kilometer  ...       v_5       v_6       v_7       v_8  \\\n",
       "0          60       12.5  ...  0.235676  0.101988  0.129549  0.022816   \n",
       "1           0       15.0  ...  0.264777  0.121004  0.135731  0.026597   \n",
       "2         163       12.5  ...  0.251410  0.114912  0.165147  0.062173   \n",
       "3         193       15.0  ...  0.274293  0.110300  0.121964  0.033395   \n",
       "4          68        5.0  ...  0.228036  0.073205  0.091880  0.078819   \n",
       "...       ...        ...  ...       ...       ...       ...       ...   \n",
       "149995    163       15.0  ...  0.280264  0.000310  0.048441  0.071158   \n",
       "149996    125       10.0  ...  0.253217  0.000777  0.084079  0.099681   \n",
       "149997     90        6.0  ...  0.233353  0.000705  0.118872  0.100118   \n",
       "149998    156       15.0  ...  0.256369  0.000252  0.081479  0.083558   \n",
       "149999    193       12.5  ...  0.284475  0.000000  0.040072  0.062543   \n",
       "\n",
       "             v_9      v_10      v_11      v_12      v_13      v_14  \n",
       "0       0.097462 -2.881803  2.804097 -2.420821  0.795292  0.914762  \n",
       "1       0.020582 -4.900482  2.096338 -1.030483 -1.722674  0.245522  \n",
       "2       0.027075 -4.846749  1.803559  1.565330 -0.832687 -0.229963  \n",
       "3       0.000000 -4.509599  1.285940 -0.501868 -2.438353 -0.478699  \n",
       "4       0.121534 -1.896240  0.910783  0.931110  2.834518  1.923482  \n",
       "...          ...       ...       ...       ...       ...       ...  \n",
       "149995  0.019174  1.988114 -2.983973  0.589167 -1.304370 -0.302592  \n",
       "149996  0.079371  1.839166 -2.774615  2.553994  0.924196 -0.272160  \n",
       "149997  0.097914  2.439812 -1.630677  2.290197  1.891922  0.414931  \n",
       "149998  0.081498  2.075380 -2.633719  1.414937  0.431981 -1.659014  \n",
       "149999  0.025819  1.978453 -3.179913  0.031724 -1.483350 -0.342674  \n",
       "\n",
       "[150000 rows x 31 columns]"
      ],
      "text/html": "<div>\n<style scoped>\n    .dataframe tbody tr th:only-of-type {\n        vertical-align: middle;\n    }\n\n    .dataframe tbody tr th {\n        vertical-align: top;\n    }\n\n    .dataframe thead th {\n        text-align: right;\n    }\n</style>\n<table border=\"1\" class=\"dataframe\">\n  <thead>\n    <tr style=\"text-align: right;\">\n      <th></th>\n      <th>SaleID</th>\n      <th>name</th>\n      <th>regDate</th>\n      <th>model</th>\n      <th>brand</th>\n      <th>bodyType</th>\n      <th>fuelType</th>\n      <th>gearbox</th>\n      <th>power</th>\n      <th>kilometer</th>\n      <th>...</th>\n      <th>v_5</th>\n      <th>v_6</th>\n      <th>v_7</th>\n      <th>v_8</th>\n      <th>v_9</th>\n      <th>v_10</th>\n      <th>v_11</th>\n      <th>v_12</th>\n      <th>v_13</th>\n      <th>v_14</th>\n    </tr>\n  </thead>\n  <tbody>\n    <tr>\n      <th>0</th>\n      <td>0</td>\n      <td>736</td>\n      <td>20040402</td>\n      <td>30.0</td>\n      <td>6</td>\n      <td>1.0</td>\n      <td>0.0</td>\n      <td>0.0</td>\n      <td>60</td>\n      <td>12.5</td>\n      <td>...</td>\n      <td>0.235676</td>\n      <td>0.101988</td>\n      <td>0.129549</td>\n      <td>0.022816</td>\n      <td>0.097462</td>\n      <td>-2.881803</td>\n      <td>2.804097</td>\n      <td>-2.420821</td>\n      <td>0.795292</td>\n      <td>0.914762</td>\n    </tr>\n    <tr>\n      <th>1</th>\n      <td>1</td>\n      <td>2262</td>\n      <td>20030301</td>\n      <td>40.0</td>\n      <td>1</td>\n      <td>2.0</td>\n      <td>0.0</td>\n      <td>0.0</td>\n      <td>0</td>\n      <td>15.0</td>\n      <td>...</td>\n      <td>0.264777</td>\n      <td>0.121004</td>\n      <td>0.135731</td>\n      <td>0.026597</td>\n      <td>0.020582</td>\n      <td>-4.900482</td>\n      <td>2.096338</td>\n      <td>-1.030483</td>\n      <td>-1.722674</td>\n      <td>0.245522</td>\n    </tr>\n    <tr>\n      <th>2</th>\n      <td>2</td>\n      <td>14874</td>\n      <td>20040403</td>\n      <td>115.0</td>\n      <td>15</td>\n      <td>1.0</td>\n      <td>0.0</td>\n      <td>0.0</td>\n      <td>163</td>\n      <td>12.5</td>\n      <td>...</td>\n      <td>0.251410</td>\n      <td>0.114912</td>\n      <td>0.165147</td>\n      <td>0.062173</td>\n      <td>0.027075</td>\n      <td>-4.846749</td>\n      <td>1.803559</td>\n      <td>1.565330</td>\n      <td>-0.832687</td>\n      <td>-0.229963</td>\n    </tr>\n    <tr>\n      <th>3</th>\n      <td>3</td>\n      <td>71865</td>\n      <td>19960908</td>\n      <td>109.0</td>\n      <td>10</td>\n      <td>0.0</td>\n      <td>0.0</td>\n      <td>1.0</td>\n      <td>193</td>\n      <td>15.0</td>\n      <td>...</td>\n      <td>0.274293</td>\n      <td>0.110300</td>\n      <td>0.121964</td>\n      <td>0.033395</td>\n      <td>0.000000</td>\n      <td>-4.509599</td>\n      <td>1.285940</td>\n      <td>-0.501868</td>\n      <td>-2.438353</td>\n      <td>-0.478699</td>\n    </tr>\n    <tr>\n      <th>4</th>\n      <td>4</td>\n      <td>111080</td>\n      <td>20120103</td>\n      <td>110.0</td>\n      <td>5</td>\n      <td>1.0</td>\n      <td>0.0</td>\n      <td>0.0</td>\n      <td>68</td>\n      <td>5.0</td>\n      <td>...</td>\n      <td>0.228036</td>\n      <td>0.073205</td>\n      <td>0.091880</td>\n      <td>0.078819</td>\n      <td>0.121534</td>\n      <td>-1.896240</td>\n      <td>0.910783</td>\n      <td>0.931110</td>\n      <td>2.834518</td>\n      <td>1.923482</td>\n    </tr>\n    <tr>\n      <th>...</th>\n      <td>...</td>\n      <td>...</td>\n      <td>...</td>\n      <td>...</td>\n      <td>...</td>\n      <td>...</td>\n      <td>...</td>\n      <td>...</td>\n      <td>...</td>\n      <td>...</td>\n      <td>...</td>\n      <td>...</td>\n      <td>...</td>\n      <td>...</td>\n      <td>...</td>\n      <td>...</td>\n      <td>...</td>\n      <td>...</td>\n      <td>...</td>\n      <td>...</td>\n      <td>...</td>\n    </tr>\n    <tr>\n      <th>149995</th>\n      <td>149995</td>\n      <td>163978</td>\n      <td>20000607</td>\n      <td>121.0</td>\n      <td>10</td>\n      <td>4.0</td>\n      <td>0.0</td>\n      <td>1.0</td>\n      <td>163</td>\n      <td>15.0</td>\n      <td>...</td>\n      <td>0.280264</td>\n      <td>0.000310</td>\n      <td>0.048441</td>\n      <td>0.071158</td>\n      <td>0.019174</td>\n      <td>1.988114</td>\n      <td>-2.983973</td>\n      <td>0.589167</td>\n      <td>-1.304370</td>\n      <td>-0.302592</td>\n    </tr>\n    <tr>\n      <th>149996</th>\n      <td>149996</td>\n      <td>184535</td>\n      <td>20091102</td>\n      <td>116.0</td>\n      <td>11</td>\n      <td>0.0</td>\n      <td>0.0</td>\n      <td>0.0</td>\n      <td>125</td>\n      <td>10.0</td>\n      <td>...</td>\n      <td>0.253217</td>\n      <td>0.000777</td>\n      <td>0.084079</td>\n      <td>0.099681</td>\n      <td>0.079371</td>\n      <td>1.839166</td>\n      <td>-2.774615</td>\n      <td>2.553994</td>\n      <td>0.924196</td>\n      <td>-0.272160</td>\n    </tr>\n    <tr>\n      <th>149997</th>\n      <td>149997</td>\n      <td>147587</td>\n      <td>20101003</td>\n      <td>60.0</td>\n      <td>11</td>\n      <td>1.0</td>\n      <td>1.0</td>\n      <td>0.0</td>\n      <td>90</td>\n      <td>6.0</td>\n      <td>...</td>\n      <td>0.233353</td>\n      <td>0.000705</td>\n      <td>0.118872</td>\n      <td>0.100118</td>\n      <td>0.097914</td>\n      <td>2.439812</td>\n      <td>-1.630677</td>\n      <td>2.290197</td>\n      <td>1.891922</td>\n      <td>0.414931</td>\n    </tr>\n    <tr>\n      <th>149998</th>\n      <td>149998</td>\n      <td>45907</td>\n      <td>20060312</td>\n      <td>34.0</td>\n      <td>10</td>\n      <td>3.0</td>\n      <td>1.0</td>\n      <td>0.0</td>\n      <td>156</td>\n      <td>15.0</td>\n      <td>...</td>\n      <td>0.256369</td>\n      <td>0.000252</td>\n      <td>0.081479</td>\n      <td>0.083558</td>\n      <td>0.081498</td>\n      <td>2.075380</td>\n      <td>-2.633719</td>\n      <td>1.414937</td>\n      <td>0.431981</td>\n      <td>-1.659014</td>\n    </tr>\n    <tr>\n      <th>149999</th>\n      <td>149999</td>\n      <td>177672</td>\n      <td>19990204</td>\n      <td>19.0</td>\n      <td>28</td>\n      <td>6.0</td>\n      <td>0.0</td>\n      <td>1.0</td>\n      <td>193</td>\n      <td>12.5</td>\n      <td>...</td>\n      <td>0.284475</td>\n      <td>0.000000</td>\n      <td>0.040072</td>\n      <td>0.062543</td>\n      <td>0.025819</td>\n      <td>1.978453</td>\n      <td>-3.179913</td>\n      <td>0.031724</td>\n      <td>-1.483350</td>\n      <td>-0.342674</td>\n    </tr>\n  </tbody>\n</table>\n<p>150000 rows × 31 columns</p>\n</div>"
     },
     "metadata": {},
     "execution_count": 5
    }
   ],
   "source": [
    "data_train"
   ]
  },
  {
   "source": [
    "### 数据预处理"
   ],
   "cell_type": "markdown",
   "metadata": {}
  },
  {
   "cell_type": "code",
   "execution_count": 6,
   "metadata": {},
   "outputs": [],
   "source": [
    "data_train.replace(to_replace = '-', value = np.nan, inplace = True)\n",
    "data_test.replace(to_replace = '-', value = np.nan, inplace = True)\n",
    "data_train.fillna(data_train.median(),inplace= True)\n",
    "data_test.fillna(data_train.median(),inplace= True)"
   ]
  },
  {
   "cell_type": "code",
   "execution_count": 7,
   "metadata": {},
   "outputs": [],
   "source": [
    "tags = ['model','brand','bodyType','fuelType','regionCode','regionCode','regDate','creatDate','kilometer','notRepairedDamage','power','v_0', 'v_1', 'v_2', 'v_3', 'v_4', 'v_5', 'v_6',\n",
    "       'v_7', 'v_8', 'v_9', 'v_10', 'v_11', 'v_12', 'v_13', 'v_14']"
   ]
  },
  {
   "cell_type": "code",
   "execution_count": 8,
   "metadata": {},
   "outputs": [
    {
     "output_type": "stream",
     "name": "stderr",
     "text": [
      "<ipython-input-8-6e4c827fd50c>:1: SettingWithCopyWarning: \nA value is trying to be set on a copy of a slice from a DataFrame\n\nSee the caveats in the documentation: https://pandas.pydata.org/pandas-docs/stable/user_guide/indexing.html#returning-a-view-versus-a-copy\n  data_train['power'][data_train['power']>600]=600\n<ipython-input-8-6e4c827fd50c>:2: SettingWithCopyWarning: \nA value is trying to be set on a copy of a slice from a DataFrame\n\nSee the caveats in the documentation: https://pandas.pydata.org/pandas-docs/stable/user_guide/indexing.html#returning-a-view-versus-a-copy\n  data_test['power'][data_test['power']>600]=600\n"
     ]
    }
   ],
   "source": [
    "data_train['power'][data_train['power']>600]=600\n",
    "data_test['power'][data_test['power']>600]=600"
   ]
  },
  {
   "cell_type": "code",
   "execution_count": 9,
   "metadata": {},
   "outputs": [],
   "source": [
    "# normalization\n",
    "min_max_scaler = MinMaxScaler()\n",
    "min_max_scaler.fit(data_train[tags].values)\n",
    "x = min_max_scaler.transform(data_train[tags].values)\n",
    "x_ = min_max_scaler.transform(data_test[tags].values)"
   ]
  },
  {
   "source": [
    "### 模型预测"
   ],
   "cell_type": "markdown",
   "metadata": {}
  },
  {
   "cell_type": "code",
   "execution_count": 10,
   "metadata": {},
   "outputs": [],
   "source": [
    "y = data_train['price'].values\n",
    "x_train,x_test,y_train,y_test = train_test_split(x,y,test_size = 0.2)"
   ]
  },
  {
   "cell_type": "code",
   "execution_count": 11,
   "metadata": {},
   "outputs": [],
   "source": [
    "model = keras.Sequential([\n",
    "        keras.layers.Dense(250,activation='relu',input_shape=[26]), \n",
    "        keras.layers.Dense(250,activation='relu'), \n",
    "        keras.layers.Dense(250,activation='relu'), \n",
    "        keras.layers.Dense(1)])\n",
    "model.compile(loss='mean_absolute_error', optimizer='Adam')"
   ]
  },
  {
   "cell_type": "code",
   "execution_count": 12,
   "metadata": {},
   "outputs": [
    {
     "output_type": "stream",
     "name": "stdout",
     "text": [
      "Epoch 1/50\n",
      "59/59 [==============================] - 3s 33ms/step - loss: 5836.2810\n",
      "Epoch 2/50\n",
      "59/59 [==============================] - 2s 32ms/step - loss: 4361.4165\n",
      "Epoch 3/50\n",
      "59/59 [==============================] - 2s 33ms/step - loss: 3905.1683\n",
      "Epoch 4/50\n",
      "59/59 [==============================] - 2s 31ms/step - loss: 2472.9919\n",
      "Epoch 5/50\n",
      "59/59 [==============================] - 2s 32ms/step - loss: 1417.0448\n",
      "Epoch 6/50\n",
      "59/59 [==============================] - 2s 33ms/step - loss: 1191.5575\n",
      "Epoch 7/50\n",
      "59/59 [==============================] - 2s 33ms/step - loss: 1103.8335\n",
      "Epoch 8/50\n",
      "59/59 [==============================] - 2s 32ms/step - loss: 1038.4132\n",
      "Epoch 9/50\n",
      "59/59 [==============================] - 2s 33ms/step - loss: 977.0889\n",
      "Epoch 10/50\n",
      "59/59 [==============================] - 2s 34ms/step - loss: 935.0731\n",
      "Epoch 11/50\n",
      "59/59 [==============================] - 2s 33ms/step - loss: 913.7559\n",
      "Epoch 12/50\n",
      "59/59 [==============================] - 2s 32ms/step - loss: 860.7389\n",
      "Epoch 13/50\n",
      "59/59 [==============================] - 2s 32ms/step - loss: 847.3820\n",
      "Epoch 14/50\n",
      "59/59 [==============================] - 2s 39ms/step - loss: 825.7744\n",
      "Epoch 15/50\n",
      "59/59 [==============================] - 2s 38ms/step - loss: 798.2600\n",
      "Epoch 16/50\n",
      "59/59 [==============================] - 2s 35ms/step - loss: 782.1340\n",
      "Epoch 17/50\n",
      "59/59 [==============================] - 2s 35ms/step - loss: 758.0584\n",
      "Epoch 18/50\n",
      "59/59 [==============================] - 2s 34ms/step - loss: 753.5082\n",
      "Epoch 19/50\n",
      "59/59 [==============================] - 2s 33ms/step - loss: 732.2280\n",
      "Epoch 20/50\n",
      "59/59 [==============================] - 2s 34ms/step - loss: 721.7478\n",
      "Epoch 21/50\n",
      "59/59 [==============================] - 2s 33ms/step - loss: 706.2299\n",
      "Epoch 22/50\n",
      "59/59 [==============================] - 2s 33ms/step - loss: 703.0019\n",
      "Epoch 23/50\n",
      "59/59 [==============================] - 2s 33ms/step - loss: 686.8527\n",
      "Epoch 24/50\n",
      "59/59 [==============================] - 2s 34ms/step - loss: 676.3555\n",
      "Epoch 25/50\n",
      "59/59 [==============================] - 2s 33ms/step - loss: 673.1602\n",
      "Epoch 26/50\n",
      "59/59 [==============================] - 2s 33ms/step - loss: 663.0542\n",
      "Epoch 27/50\n",
      "59/59 [==============================] - 2s 33ms/step - loss: 652.8435\n",
      "Epoch 28/50\n",
      "59/59 [==============================] - 2s 36ms/step - loss: 648.8734\n",
      "Epoch 29/50\n",
      "59/59 [==============================] - 2s 35ms/step - loss: 640.4365\n",
      "Epoch 30/50\n",
      "59/59 [==============================] - 2s 33ms/step - loss: 640.6885\n",
      "Epoch 31/50\n",
      "59/59 [==============================] - 2s 33ms/step - loss: 635.0182\n",
      "Epoch 32/50\n",
      "59/59 [==============================] - 2s 33ms/step - loss: 626.6886\n",
      "Epoch 33/50\n",
      "59/59 [==============================] - 2s 33ms/step - loss: 625.7066\n",
      "Epoch 34/50\n",
      "59/59 [==============================] - 2s 34ms/step - loss: 617.0979\n",
      "Epoch 35/50\n",
      "59/59 [==============================] - 2s 33ms/step - loss: 610.6866\n",
      "Epoch 36/50\n",
      "59/59 [==============================] - 2s 33ms/step - loss: 609.4277\n",
      "Epoch 37/50\n",
      "59/59 [==============================] - 2s 33ms/step - loss: 601.4970\n",
      "Epoch 38/50\n",
      "59/59 [==============================] - 2s 33ms/step - loss: 604.1172\n",
      "Epoch 39/50\n",
      "59/59 [==============================] - 2s 32ms/step - loss: 598.9331\n",
      "Epoch 40/50\n",
      "59/59 [==============================] - 2s 34ms/step - loss: 595.9468\n",
      "Epoch 41/50\n",
      "59/59 [==============================] - 2s 34ms/step - loss: 587.7797\n",
      "Epoch 42/50\n",
      "59/59 [==============================] - 2s 35ms/step - loss: 585.9858\n",
      "Epoch 43/50\n",
      "59/59 [==============================] - 2s 34ms/step - loss: 587.9084\n",
      "Epoch 44/50\n",
      "59/59 [==============================] - 2s 34ms/step - loss: 578.9115\n",
      "Epoch 45/50\n",
      "59/59 [==============================] - 2s 37ms/step - loss: 582.0682\n",
      "Epoch 46/50\n",
      "59/59 [==============================] - 2s 35ms/step - loss: 578.3197\n",
      "Epoch 47/50\n",
      "59/59 [==============================] - 2s 36ms/step - loss: 570.1833\n",
      "Epoch 48/50\n",
      "59/59 [==============================] - 2s 34ms/step - loss: 574.5603\n",
      "Epoch 49/50\n",
      "59/59 [==============================] - 2s 34ms/step - loss: 572.1929\n",
      "Epoch 50/50\n",
      "59/59 [==============================] - 2s 33ms/step - loss: 569.5448\n"
     ]
    },
    {
     "output_type": "execute_result",
     "data": {
      "text/plain": [
       "<tensorflow.python.keras.callbacks.History at 0x28555bbc160>"
      ]
     },
     "metadata": {},
     "execution_count": 12
    }
   ],
   "source": [
    "model.fit(x_train,y_train,batch_size = 2048,epochs=50)"
   ]
  },
  {
   "cell_type": "code",
   "execution_count": 13,
   "metadata": {},
   "outputs": [],
   "source": [
    "y1=model.predict(x_)"
   ]
  },
  {
   "cell_type": "code",
   "execution_count": 14,
   "metadata": {},
   "outputs": [
    {
     "output_type": "execute_result",
     "data": {
      "text/plain": [
       "RandomForestClassifier(max_depth=2, n_estimators=10)"
      ]
     },
     "metadata": {},
     "execution_count": 14
    }
   ],
   "source": [
    "from sklearn.ensemble import RandomForestClassifier\n",
    "model = RandomForestClassifier(n_estimators=10, max_depth=2)\n",
    "model.fit(x_train,y_train)"
   ]
  },
  {
   "cell_type": "code",
   "execution_count": 15,
   "metadata": {},
   "outputs": [],
   "source": [
    "y2 = model.predict(x_)"
   ]
  },
  {
   "source": [
    "### 模型融合"
   ],
   "cell_type": "markdown",
   "metadata": {}
  },
  {
   "cell_type": "code",
   "execution_count": 24,
   "metadata": {},
   "outputs": [],
   "source": [
    "y2 = y2.reshape([-1,1])"
   ]
  },
  {
   "cell_type": "code",
   "execution_count": 25,
   "metadata": {},
   "outputs": [
    {
     "output_type": "execute_result",
     "data": {
      "text/plain": [
       "(50000, 1)"
      ]
     },
     "metadata": {},
     "execution_count": 25
    }
   ],
   "source": [
    "y2.shape"
   ]
  },
  {
   "cell_type": "code",
   "execution_count": 26,
   "metadata": {},
   "outputs": [],
   "source": [
    "y_ = (y1 + y2) / 2"
   ]
  },
  {
   "source": [
    "### 输出数据"
   ],
   "cell_type": "markdown",
   "metadata": {}
  },
  {
   "cell_type": "code",
   "execution_count": 27,
   "metadata": {},
   "outputs": [],
   "source": [
    "data_test_price = pd.DataFrame(y_,columns = ['price'])\n",
    "results = pd.concat([data_test['SaleID'],data_test_price],axis = 1)\n",
    "results.to_csv('results.csv',sep = ',',index = None)"
   ]
  }
 ],
 "metadata": {
  "kernelspec": {
   "name": "python38532bitenv1f1d101519194d008a9dc50d75ac4365",
   "display_name": "Python 3.8.7  ('env': venv)"
  },
  "language_info": {
   "codemirror_mode": {
    "name": "ipython",
    "version": 3
   },
   "file_extension": ".py",
   "mimetype": "text/x-python",
   "name": "python",
   "nbconvert_exporter": "python",
   "pygments_lexer": "ipython3",
   "version": "3.8.7"
  },
  "tianchi_metadata": {
   "competitions": [],
   "datasets": [
    {
     "id": "55214",
     "title": "零基础入门数据挖掘 - 二手车交易价格预测"
    }
   ],
   "description": "",
   "notebookId": "189240",
   "source": "dsw"
  },
  "metadata": {
   "interpreter": {
    "hash": "1ad5102d57c5043b35571eef154c20a8fcf48d3c5d7d98e5ab0ef51398b23423"
   }
  }
 },
 "nbformat": 4,
 "nbformat_minor": 4
}